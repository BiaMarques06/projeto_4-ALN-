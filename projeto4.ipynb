{
 "cells": [
  {
   "cell_type": "markdown",
   "id": "b9c064ac",
   "metadata": {},
   "source": [
    "# Projeto 4 - Álgebra Linear Numérica.\n",
    "# Alunos:\n",
    "- Matheus Vilarino de Souza Pinto. 241708015\n",
    "- Beatriz dos Santos Marques. 241708040"
   ]
  },
  {
   "cell_type": "markdown",
   "id": "ec6b6e38",
   "metadata": {},
   "source": [
    "# Questão 1.\n"
   ]
  },
  {
   "cell_type": "markdown",
   "id": "3b7b763d",
   "metadata": {},
   "source": [
    "## a)\n"
   ]
  },
  {
   "cell_type": "markdown",
   "id": "88d4628f",
   "metadata": {},
   "source": [
    "## b)\n"
   ]
  },
  {
   "cell_type": "markdown",
   "id": "44eb3ec6",
   "metadata": {},
   "source": [
    "## c)\n"
   ]
  },
  {
   "cell_type": "markdown",
   "id": "462fd13a",
   "metadata": {},
   "source": [
    "## d)\n"
   ]
  },
  {
   "cell_type": "markdown",
   "id": "cf722c3d",
   "metadata": {},
   "source": [
    "## e)\n"
   ]
  }
 ],
 "metadata": {
  "language_info": {
   "name": "python"
  }
 },
 "nbformat": 4,
 "nbformat_minor": 5
}
