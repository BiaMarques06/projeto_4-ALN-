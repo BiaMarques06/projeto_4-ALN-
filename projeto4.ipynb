{
 "cells": [
  {
   "cell_type": "markdown",
   "id": "b9c064ac",
   "metadata": {},
   "source": [
    "# Projeto 4 - Álgebra Linear Numérica.\n",
    "# Alunos:\n",
    "- Matheus Vilarino de Souza Pinto. 241708015\n",
    "- Beatriz dos Santos Marques. 241708040"
   ]
  },
  {
   "cell_type": "code",
   "execution_count": 33,
   "id": "7962c6df",
   "metadata": {},
   "outputs": [],
   "source": [
    "import numpy as np\n",
    "import matplotlib.pyplot as plt\n",
    "import torch\n",
    "from scipy.stats import linregress\n",
    "import random"
   ]
  },
  {
   "cell_type": "markdown",
   "id": "ec6b6e38",
   "metadata": {},
   "source": [
    "# Questão 1.\n"
   ]
  },
  {
   "cell_type": "markdown",
   "id": "3b7b763d",
   "metadata": {},
   "source": [
    "## a)\n",
    "\n"
   ]
  },
  {
   "cell_type": "code",
   "execution_count": 34,
   "id": "3dafa807",
   "metadata": {},
   "outputs": [],
   "source": [
    "def gaussianMatrix(m : int, n: int) -> torch.tensor:\n",
    "    \"\"\"Retorna um torch.tensor de dimensão (m x n) e entradas seguindo uma distribuição normal(0,1) \n",
    "\n",
    "    Args:\n",
    "        m (int): número de linhas\n",
    "        n (int): número de colunas\n",
    "\n",
    "    Returns:\n",
    "        torch.tensor: A matriz \n",
    "    \"\"\"\n",
    "    M = torch.randn(size=(m,n))\n",
    "    return M"
   ]
  },
  {
   "cell_type": "markdown",
   "id": "88d4628f",
   "metadata": {},
   "source": [
    "## b)\n"
   ]
  },
  {
   "cell_type": "markdown",
   "id": "44eb3ec6",
   "metadata": {},
   "source": [
    "## c) A distribuição do máximo."
   ]
  },
  {
   "cell_type": "code",
   "execution_count": null,
   "id": "f371a442",
   "metadata": {},
   "outputs": [
    {
     "name": "stdout",
     "output_type": "stream",
     "text": [
      "tensor([[-1.6066,  1.0736, -0.3703, -0.1265,  1.4906,  0.5395,  0.9246, -0.5708,\n",
      "         -0.7960,  0.5559],\n",
      "        [ 1.4742, -0.2246,  0.6279, -0.5705,  0.1461,  1.7577,  1.5729, -2.0154,\n",
      "          0.5540, -0.8446],\n",
      "        [-0.0085,  1.7069,  0.2944,  1.3368, -0.0570,  0.3415, -0.1192,  0.4186,\n",
      "          0.3919,  0.3764],\n",
      "        [-0.4937, -0.3195, -0.7870, -0.0203, -1.0898,  0.9948, -0.6024,  1.1510,\n",
      "          1.1277, -0.7882],\n",
      "        [ 0.0724,  2.2787, -0.7499,  0.4737,  0.2569,  0.1146, -1.1050, -1.5316,\n",
      "          2.0206,  0.2961],\n",
      "        [ 1.4975,  0.4054, -2.4042, -0.5394,  0.0072,  0.7505,  0.9488,  0.3131,\n",
      "          0.7296,  0.8224],\n",
      "        [-0.3291,  0.2665, -0.9451, -0.3549,  1.4131,  0.1634, -0.7779,  1.5141,\n",
      "          0.0090, -0.1780],\n",
      "        [ 0.1007,  0.8351,  0.4009, -1.3554, -0.6941, -0.6737, -2.1206, -0.8343,\n",
      "          0.0156,  1.3851],\n",
      "        [-1.3451,  0.5124,  1.6846, -1.0486, -0.6290, -1.6745, -0.4168, -2.4441,\n",
      "         -1.0232,  0.3684],\n",
      "        [ 0.8406,  0.1278, -0.4321, -0.0475,  0.4125,  0.8035, -0.0091, -2.0161,\n",
      "          0.4581, -0.1724]])\n"
     ]
    }
   ],
   "source": [
    "a = gaussianMatrix(10,10)"
   ]
  },
  {
   "cell_type": "markdown",
   "id": "462fd13a",
   "metadata": {},
   "source": [
    "## d)\n"
   ]
  },
  {
   "cell_type": "markdown",
   "id": "cf722c3d",
   "metadata": {},
   "source": [
    "## e)\n"
   ]
  }
 ],
 "metadata": {
  "kernelspec": {
   "display_name": ".venv",
   "language": "python",
   "name": "python3"
  },
  "language_info": {
   "codemirror_mode": {
    "name": "ipython",
    "version": 3
   },
   "file_extension": ".py",
   "mimetype": "text/x-python",
   "name": "python",
   "nbconvert_exporter": "python",
   "pygments_lexer": "ipython3",
   "version": "3.13.0"
  }
 },
 "nbformat": 4,
 "nbformat_minor": 5
}
