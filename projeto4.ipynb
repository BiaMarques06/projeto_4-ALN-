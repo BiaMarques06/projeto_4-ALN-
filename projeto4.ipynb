{
 "cells": [
  {
   "cell_type": "markdown",
   "id": "b9c064ac",
   "metadata": {},
   "source": [
    "# Projeto 4 - Álgebra Linear Numérica.\n",
    "# Alunos:\n",
    "- Matheus Vilarino de Souza Pinto. 241708015\n",
    "- Beatriz dos Santos Marques. 241708040"
   ]
  },
  {
   "cell_type": "code",
   "execution_count": null,
   "id": "7962c6df",
   "metadata": {},
   "outputs": [
    {
     "ename": "ModuleNotFoundError",
     "evalue": "No module named 'torch2'",
     "output_type": "error",
     "traceback": [
      "\u001b[31m---------------------------------------------------------------------------\u001b[39m",
      "\u001b[31mModuleNotFoundError\u001b[39m                       Traceback (most recent call last)",
      "\u001b[36mCell\u001b[39m\u001b[36m \u001b[39m\u001b[32mIn[1]\u001b[39m\u001b[32m, line 1\u001b[39m\n\u001b[32m----> \u001b[39m\u001b[32m1\u001b[39m \u001b[38;5;28;01mimport\u001b[39;00m\u001b[38;5;250m \u001b[39m\u001b[34;01mtorch2\u001b[39;00m\u001b[38;5;250m \u001b[39m\u001b[38;5;28;01mas\u001b[39;00m\u001b[38;5;250m \u001b[39m\u001b[34;01mtorch\u001b[39;00m\n",
      "\u001b[31mModuleNotFoundError\u001b[39m: No module named 'torch2'"
     ]
    }
   ],
   "source": [
    "import numpy as np\n",
    "import matplotlib.pyplot as plt\n",
    "import time\n",
    "import torch\n",
    "from scipy.stats import linregress\n",
    "import random"
   ]
  },
  {
   "cell_type": "markdown",
   "id": "ec6b6e38",
   "metadata": {},
   "source": [
    "# Questão 1.\n"
   ]
  },
  {
   "cell_type": "markdown",
   "id": "3b7b763d",
   "metadata": {},
   "source": [
    "## a)\n"
   ]
  },
  {
   "cell_type": "markdown",
   "id": "88d4628f",
   "metadata": {},
   "source": [
    "## b)\n"
   ]
  },
  {
   "cell_type": "markdown",
   "id": "44eb3ec6",
   "metadata": {},
   "source": [
    "## c) A distribuição do máximo."
   ]
  },
  {
   "cell_type": "code",
   "execution_count": null,
   "id": "f371a442",
   "metadata": {},
   "outputs": [],
   "source": [
    "def gaussianMatrix(n, m):\n",
    "    "
   ]
  },
  {
   "cell_type": "markdown",
   "id": "462fd13a",
   "metadata": {},
   "source": [
    "## d)\n"
   ]
  },
  {
   "cell_type": "markdown",
   "id": "cf722c3d",
   "metadata": {},
   "source": [
    "## e)\n"
   ]
  }
 ],
 "metadata": {
  "kernelspec": {
   "display_name": ".venv",
   "language": "python",
   "name": "python3"
  },
  "language_info": {
   "codemirror_mode": {
    "name": "ipython",
    "version": 3
   },
   "file_extension": ".py",
   "mimetype": "text/x-python",
   "name": "python",
   "nbconvert_exporter": "python",
   "pygments_lexer": "ipython3",
   "version": "3.13.0"
  }
 },
 "nbformat": 4,
 "nbformat_minor": 5
}
